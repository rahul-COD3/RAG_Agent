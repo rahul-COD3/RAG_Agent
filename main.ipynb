{
 "cells": [
  {
   "cell_type": "code",
   "execution_count": 2,
   "metadata": {},
   "outputs": [],
   "source": [
    "from llama_index.llms.gemini import Gemini\n",
    "from dotenv import load_dotenv\n",
    "load_dotenv()\n",
    "from llama_index.core.agent import ReActAgent\n",
    "from llama_index.core.tools import FunctionTool\n",
    "from llama_index.core import Settings\n",
    "\n",
    "Settings.llm = Gemini(model=\"models/gemini-1.5-flash-latest\", temperature=0)\n",
    "\n",
    "def check_hotel_reservation_availability(date:str) -> str:\n",
    "    \"\"\"Check if hotel reservations are available for the given date\"\"\"\n",
    "    if date == \"Tomorrow\" or date == \"tomorrow\":\n",
    "        return \"Yes, Reservations are available for Tomorrow\"\n",
    "    else:\n",
    "        return \"Sorry, Reservations are only available for Tomorrow at the moment\"\n",
    "\n",
    "check_hotel_reservation_availability_tool = FunctionTool.from_defaults(fn=check_hotel_reservation_availability)"
   ]
  },
  {
   "cell_type": "code",
   "execution_count": 3,
   "metadata": {},
   "outputs": [],
   "source": [
    "from llama_index.embeddings.gemini import GeminiEmbedding\n",
    "\n",
    "gemini_embedding_model = GeminiEmbedding(model_name=\"models/embedding-001\")\n",
    "Settings.embed_model = gemini_embedding_model"
   ]
  },
  {
   "cell_type": "code",
   "execution_count": 6,
   "metadata": {},
   "outputs": [
    {
     "name": "stdout",
     "output_type": "stream",
     "text": [
      "Started parsing the file under job_id f792e11e-bb3c-4620-b29f-6bc9fd104c27\n"
     ]
    }
   ],
   "source": [
    "from llama_index.core import VectorStoreIndex, Settings\n",
    "from llama_parse import LlamaParse\n",
    "import nest_asyncio\n",
    "nest_asyncio.apply()\n",
    "documents = LlamaParse(result_type=\"markdown\").load_data(\"./data/knowledge.pdf\")"
   ]
  },
  {
   "cell_type": "code",
   "execution_count": 8,
   "metadata": {},
   "outputs": [
    {
     "name": "stderr",
     "output_type": "stream",
     "text": [
      "d:\\learning\\AI\\demo-doubts\\agents\\agent\\my_env\\Lib\\site-packages\\tiktoken\\core.py:50: RuntimeWarning: coroutine 'LlamaParse.aload_data' was never awaited\n",
      "  self._core_bpe = _tiktoken.CoreBPE(mergeable_ranks, special_tokens, pat_str)\n",
      "RuntimeWarning: Enable tracemalloc to get the object allocation traceback\n"
     ]
    }
   ],
   "source": [
    "import chromadb\n",
    "from llama_index.vector_stores.chroma import ChromaVectorStore\n",
    "from llama_index.core import StorageContext\n",
    "db = chromadb.PersistentClient(path=\"./chroma_db\")\n",
    "chroma_collection = db.get_or_create_collection(\"quickstart\")\n",
    "vector_store = ChromaVectorStore(chroma_collection=chroma_collection)\n",
    "storage_context = StorageContext.from_defaults(vector_store=vector_store)\n",
    "\n",
    "# create your index\n",
    "index = VectorStoreIndex.from_documents(\n",
    "    documents, storage_context=storage_context\n",
    ")\n",
    "query_engine = index.as_query_engine()"
   ]
  },
  {
   "cell_type": "code",
   "execution_count": 9,
   "metadata": {},
   "outputs": [],
   "source": [
    "from llama_index.core.tools import QueryEngineTool\n",
    "hotel_policy_and_services_tool = QueryEngineTool.from_defaults(\n",
    "    query_engine,\n",
    "    name=\"Hotel\",\n",
    "    description=\"Get the policy and services related information for a hotel\",\n",
    ")"
   ]
  },
  {
   "cell_type": "code",
   "execution_count": 10,
   "metadata": {},
   "outputs": [],
   "source": [
    "agent = ReActAgent.from_tools([check_hotel_reservation_availability_tool, hotel_policy_and_services_tool], llm=Settings.llm, verbose=True)"
   ]
  },
  {
   "cell_type": "code",
   "execution_count": 12,
   "metadata": {},
   "outputs": [
    {
     "name": "stdout",
     "output_type": "stream",
     "text": [
      "> Running step 21a9e663-a690-4db5-995c-4df2db29362d. Step input: I have to book a hotel reservation for tommorow please let me know if it is available and also provide me with the pricing details\n",
      "\u001b[1;3;38;5;200mThought: I need to check if the hotel has reservations available for tomorrow.\n",
      "Action: check_hotel_reservation_availability\n",
      "Action Input: {'date': 'tomorrow'}\n",
      "\u001b[0m\u001b[1;3;34mObservation: Yes, Reservations are available for Tomorrow\n",
      "\u001b[0m> Running step fa488088-a62b-4019-a7aa-9b57c451e51b. Step input: None\n",
      "\u001b[1;3;38;5;200mThought: I need to get the pricing details for the hotel.\n",
      "Action: Hotel\n",
      "Action Input: {'input': 'pricing details'}\n",
      "\u001b[0m\u001b[1;3;34mObservation: The hotel offers three room types: Standard, Deluxe, and Executive Suite. The Standard Room costs 7,000 per night, the Deluxe Room costs 10,500 per night, and the Executive Suite costs 17,500 per night. \n",
      "\n",
      "\u001b[0m> Running step 6f70f83e-08a4-4867-90f2-d668a902a172. Step input: None\n",
      "\u001b[1;3;38;5;200mThought: I can answer without using any more tools. I'll use the user's language to answer\n",
      "Answer: Yes, reservations are available for tomorrow. The hotel offers three room types: Standard, Deluxe, and Executive Suite. The Standard Room costs 7,000 per night, the Deluxe Room costs 10,500 per night, and the Executive Suite costs 17,500 per night.\n",
      "\u001b[0mYes, reservations are available for tomorrow. The hotel offers three room types: Standard, Deluxe, and Executive Suite. The Standard Room costs 7,000 per night, the Deluxe Room costs 10,500 per night, and the Executive Suite costs 17,500 per night.\n"
     ]
    }
   ],
   "source": [
    "response = agent.chat(\n",
    "    \"I have to book a hotel reservation for tommorow please let me know if it is available and also provide me with the pricing details\",\n",
    ")\n",
    "\n",
    "print(response)"
   ]
  }
 ],
 "metadata": {
  "kernelspec": {
   "display_name": "my_env",
   "language": "python",
   "name": "python3"
  },
  "language_info": {
   "codemirror_mode": {
    "name": "ipython",
    "version": 3
   },
   "file_extension": ".py",
   "mimetype": "text/x-python",
   "name": "python",
   "nbconvert_exporter": "python",
   "pygments_lexer": "ipython3",
   "version": "3.11.9"
  }
 },
 "nbformat": 4,
 "nbformat_minor": 2
}
